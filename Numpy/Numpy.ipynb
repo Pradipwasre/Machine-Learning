{
 "cells": [
  {
   "attachments": {},
   "cell_type": "markdown",
   "id": "88851a46",
   "metadata": {},
   "source": [
    "* NumPy library is an important foundational tool for studying Machine Learning. Many of its functions are very useful for performing any mathematical or scientific calculation. As it is known that mathematics is the foundation of machine learning, most of the mathematical tasks can be performed using NumPy.\n",
    "\n",
    "**Introduction to NumPy**\n",
    "NumPy stands for ‘Numerical Python’. It is an open-source Python library used to perform various mathematical and scientific tasks. It contains multi-dimensional arrays and matrices, along with many high-level mathematical functions that operate on these arrays and matrices.\n",
    "\n",
    "**Why Numpy?**\n",
    "* It's Fast\n",
    "* Behind the scenes optimization written in C\n",
    "* Vectorization via brodcasting (Avoiding Loops)\n",
    "* Backbone of other Python Scientific packages\n",
    "\n",
    "**What are we going to Cover?**\n",
    "* Most Useful functions\n",
    "* Numpy datatypes & attributes (ndarray)\n",
    "* Creatingg Arrays\n",
    "* Viewing arrays & matrices\n",
    "* Manupulating & comparing Arrays\n",
    "* Sorting Arrays\n",
    "* Use cases"
   ]
  },
  {
   "attachments": {},
   "cell_type": "markdown",
   "id": "fb4632db",
   "metadata": {},
   "source": [
    "# 1. DataTypes & Attributes"
   ]
  },
  {
   "cell_type": "code",
   "execution_count": 2,
   "id": "6df004b2",
   "metadata": {},
   "outputs": [],
   "source": [
    "# Numpy's main datatype is ndarray\n",
    "import numpy as np"
   ]
  },
  {
   "cell_type": "code",
   "execution_count": 3,
   "id": "abfcee2c",
   "metadata": {},
   "outputs": [
    {
     "data": {
      "text/plain": [
       "array([1, 2, 3])"
      ]
     },
     "execution_count": 3,
     "metadata": {},
     "output_type": "execute_result"
    }
   ],
   "source": [
    "a = np.array([1,2,3])\n",
    "a"
   ]
  },
  {
   "cell_type": "code",
   "execution_count": 9,
   "id": "7fdf7df6",
   "metadata": {},
   "outputs": [
    {
     "name": "stdout",
     "output_type": "stream",
     "text": [
      "[1 2 3]\n"
     ]
    }
   ],
   "source": [
    "print(a)"
   ]
  },
  {
   "attachments": {},
   "cell_type": "markdown",
   "id": "631ade36",
   "metadata": {},
   "source": [
    "array([1 2 3]):\n",
    "* Names: Array, Vector\n",
    "* 1 - dimensional\n",
    "* shape = (1,3)"
   ]
  },
  {
   "cell_type": "code",
   "execution_count": 4,
   "id": "ebbd8bad",
   "metadata": {},
   "outputs": [
    {
     "data": {
      "text/plain": [
       "numpy.ndarray"
      ]
     },
     "execution_count": 4,
     "metadata": {},
     "output_type": "execute_result"
    }
   ],
   "source": [
    "# Check the type of a \n",
    "type(a)"
   ]
  },
  {
   "cell_type": "code",
   "execution_count": 7,
   "id": "43485d23",
   "metadata": {},
   "outputs": [
    {
     "name": "stdout",
     "output_type": "stream",
     "text": [
      "[[1.  2.  3.3]\n",
      " [4.  5.  6.5]]\n"
     ]
    }
   ],
   "source": [
    "a2 = np.array([[1, 2.0, 3.3],\n",
    "               [4, 5, 6.5]])\n",
    "print(a2)"
   ]
  },
  {
   "attachments": {},
   "cell_type": "markdown",
   "id": "3a7bd06b",
   "metadata": {},
   "source": [
    "[[1.  2.  3.3]\n",
    " [4.  5.  6.5]]\n",
    "\n",
    "* Names: Array, Matrix\n",
    "* More than 1-dimension\n",
    "* Shape = (2,3)"
   ]
  },
  {
   "cell_type": "code",
   "execution_count": 8,
   "id": "50d8ed0f",
   "metadata": {},
   "outputs": [
    {
     "name": "stdout",
     "output_type": "stream",
     "text": [
      "[[[ 1  2  3]\n",
      "  [ 4  5  6]\n",
      "  [ 7  8  9]]\n",
      "\n",
      " [[10 11 12]\n",
      "  [13 14 15]\n",
      "  [16 17 18]]]\n"
     ]
    }
   ],
   "source": [
    "\n",
    "a3 = np.array([[[1, 2, 3],\n",
    "                [4, 5, 6],\n",
    "                [7, 8, 9]],\n",
    "               [[10, 11, 12],\n",
    "                [13, 14, 15],\n",
    "                [16, 17, 18]]])\n",
    "print(a3)"
   ]
  },
  {
   "attachments": {},
   "cell_type": "markdown",
   "id": "751fb66b",
   "metadata": {},
   "source": [
    "* Names: Array, Matrix\n",
    "* More than 1-dimension\n",
    "* Shape = (2,3,3)"
   ]
  },
  {
   "cell_type": "code",
   "execution_count": 15,
   "id": "4442cb91",
   "metadata": {},
   "outputs": [
    {
     "data": {
      "text/plain": [
       "1"
      ]
     },
     "execution_count": 15,
     "metadata": {},
     "output_type": "execute_result"
    }
   ],
   "source": [
    "# Dimensions\n",
    "a.ndim"
   ]
  },
  {
   "cell_type": "code",
   "execution_count": 16,
   "id": "3207d80b",
   "metadata": {},
   "outputs": [
    {
     "data": {
      "text/plain": [
       "2"
      ]
     },
     "execution_count": 16,
     "metadata": {},
     "output_type": "execute_result"
    }
   ],
   "source": [
    "a2.ndim"
   ]
  },
  {
   "cell_type": "code",
   "execution_count": 17,
   "id": "6e1b4974",
   "metadata": {},
   "outputs": [
    {
     "data": {
      "text/plain": [
       "3"
      ]
     },
     "execution_count": 17,
     "metadata": {},
     "output_type": "execute_result"
    }
   ],
   "source": [
    "a3.ndim"
   ]
  },
  {
   "cell_type": "code",
   "execution_count": 18,
   "id": "0ab5b389",
   "metadata": {},
   "outputs": [
    {
     "data": {
      "text/plain": [
       "(dtype('int32'), dtype('float64'), dtype('int32'))"
      ]
     },
     "execution_count": 18,
     "metadata": {},
     "output_type": "execute_result"
    }
   ],
   "source": [
    "# Check the data arrtibutes\n",
    "a.dtype, a2.dtype, a3.dtype"
   ]
  },
  {
   "cell_type": "code",
   "execution_count": 19,
   "id": "05fc7a93",
   "metadata": {},
   "outputs": [
    {
     "data": {
      "text/plain": [
       "(3,)"
      ]
     },
     "execution_count": 19,
     "metadata": {},
     "output_type": "execute_result"
    }
   ],
   "source": [
    "# Check the Shapes \n",
    "a.shape"
   ]
  },
  {
   "cell_type": "code",
   "execution_count": 20,
   "id": "fdf986f6",
   "metadata": {},
   "outputs": [
    {
     "data": {
      "text/plain": [
       "(2, 3)"
      ]
     },
     "execution_count": 20,
     "metadata": {},
     "output_type": "execute_result"
    }
   ],
   "source": [
    "a2.shape"
   ]
  },
  {
   "cell_type": "code",
   "execution_count": 21,
   "id": "b76c62df",
   "metadata": {},
   "outputs": [
    {
     "data": {
      "text/plain": [
       "(2, 3)"
      ]
     },
     "execution_count": 21,
     "metadata": {},
     "output_type": "execute_result"
    }
   ],
   "source": [
    "a2.shape"
   ]
  },
  {
   "cell_type": "code",
   "execution_count": 23,
   "id": "05a5f7ad",
   "metadata": {},
   "outputs": [
    {
     "data": {
      "text/plain": [
       "numpy.ndarray"
      ]
     },
     "execution_count": 23,
     "metadata": {},
     "output_type": "execute_result"
    }
   ],
   "source": [
    "# What kind of types we have \n",
    "type(a)"
   ]
  },
  {
   "cell_type": "code",
   "execution_count": 24,
   "id": "65d9f062",
   "metadata": {},
   "outputs": [
    {
     "data": {
      "text/plain": [
       "numpy.ndarray"
      ]
     },
     "execution_count": 24,
     "metadata": {},
     "output_type": "execute_result"
    }
   ],
   "source": [
    "type(a2)"
   ]
  },
  {
   "cell_type": "code",
   "execution_count": 25,
   "id": "9b5b99b7",
   "metadata": {},
   "outputs": [
    {
     "data": {
      "text/plain": [
       "numpy.ndarray"
      ]
     },
     "execution_count": 25,
     "metadata": {},
     "output_type": "execute_result"
    }
   ],
   "source": [
    "type(a3)"
   ]
  },
  {
   "cell_type": "code",
   "execution_count": 27,
   "id": "62a8891c",
   "metadata": {},
   "outputs": [
    {
     "data": {
      "text/html": [
       "<div>\n",
       "<style scoped>\n",
       "    .dataframe tbody tr th:only-of-type {\n",
       "        vertical-align: middle;\n",
       "    }\n",
       "\n",
       "    .dataframe tbody tr th {\n",
       "        vertical-align: top;\n",
       "    }\n",
       "\n",
       "    .dataframe thead th {\n",
       "        text-align: right;\n",
       "    }\n",
       "</style>\n",
       "<table border=\"1\" class=\"dataframe\">\n",
       "  <thead>\n",
       "    <tr style=\"text-align: right;\">\n",
       "      <th></th>\n",
       "      <th>0</th>\n",
       "      <th>1</th>\n",
       "      <th>2</th>\n",
       "    </tr>\n",
       "  </thead>\n",
       "  <tbody>\n",
       "    <tr>\n",
       "      <th>0</th>\n",
       "      <td>1.0</td>\n",
       "      <td>2.0</td>\n",
       "      <td>3.3</td>\n",
       "    </tr>\n",
       "    <tr>\n",
       "      <th>1</th>\n",
       "      <td>4.0</td>\n",
       "      <td>5.0</td>\n",
       "      <td>6.5</td>\n",
       "    </tr>\n",
       "  </tbody>\n",
       "</table>\n",
       "</div>"
      ],
      "text/plain": [
       "     0    1    2\n",
       "0  1.0  2.0  3.3\n",
       "1  4.0  5.0  6.5"
      ]
     },
     "execution_count": 27,
     "metadata": {},
     "output_type": "execute_result"
    }
   ],
   "source": [
    "# Creata a dataframe from numpy array\n",
    "import pandas as pd\n",
    "df = pd.DataFrame(a2)\n",
    "df"
   ]
  },
  {
   "attachments": {},
   "cell_type": "markdown",
   "id": "f0bc397d",
   "metadata": {},
   "source": [
    "# Creating Arrays"
   ]
  },
  {
   "cell_type": "code",
   "execution_count": 28,
   "id": "d114daae",
   "metadata": {},
   "outputs": [
    {
     "data": {
      "text/plain": [
       "array([1, 2, 3])"
      ]
     },
     "execution_count": 28,
     "metadata": {},
     "output_type": "execute_result"
    }
   ],
   "source": [
    "sample_array = np.array([1,2,3])\n",
    "sample_array"
   ]
  },
  {
   "cell_type": "code",
   "execution_count": 29,
   "id": "a27e0dba",
   "metadata": {},
   "outputs": [
    {
     "data": {
      "text/plain": [
       "dtype('int32')"
      ]
     },
     "execution_count": 29,
     "metadata": {},
     "output_type": "execute_result"
    }
   ],
   "source": [
    "sample_array.dtype"
   ]
  },
  {
   "cell_type": "code",
   "execution_count": 35,
   "id": "d47b0bb7",
   "metadata": {},
   "outputs": [
    {
     "data": {
      "text/plain": [
       "array([[1., 1.],\n",
       "       [1., 1.]])"
      ]
     },
     "execution_count": 35,
     "metadata": {},
     "output_type": "execute_result"
    }
   ],
   "source": [
    "ones = np.ones((2,2))\n",
    "ones"
   ]
  },
  {
   "cell_type": "code",
   "execution_count": 36,
   "id": "f1f9d08c",
   "metadata": {},
   "outputs": [
    {
     "data": {
      "text/plain": [
       "dtype('float64')"
      ]
     },
     "execution_count": 36,
     "metadata": {},
     "output_type": "execute_result"
    }
   ],
   "source": [
    "ones.dtype"
   ]
  },
  {
   "cell_type": "code",
   "execution_count": 37,
   "id": "da0d95a7",
   "metadata": {},
   "outputs": [
    {
     "data": {
      "text/plain": [
       "numpy.ndarray"
      ]
     },
     "execution_count": 37,
     "metadata": {},
     "output_type": "execute_result"
    }
   ],
   "source": [
    "type(ones)"
   ]
  },
  {
   "cell_type": "code",
   "execution_count": 38,
   "id": "7c060dad",
   "metadata": {},
   "outputs": [],
   "source": [
    "zeros = np.zeros((2,2))"
   ]
  },
  {
   "cell_type": "code",
   "execution_count": 39,
   "id": "51da3e9f",
   "metadata": {},
   "outputs": [
    {
     "data": {
      "text/plain": [
       "array([[0., 0.],\n",
       "       [0., 0.]])"
      ]
     },
     "execution_count": 39,
     "metadata": {},
     "output_type": "execute_result"
    }
   ],
   "source": [
    "zeros"
   ]
  },
  {
   "attachments": {},
   "cell_type": "markdown",
   "id": "7eb7136c",
   "metadata": {},
   "source": [
    "In case, you could imagine zeros is kind of like a placeholder array, maybe in machine learning. You want to fill an array with some initial data or that data you don't know yet. So you create just to work out the shapes of data you're working with.\n",
    "\n",
    "make sure shapes while creating arrays "
   ]
  },
  {
   "cell_type": "code",
   "execution_count": 40,
   "id": "3037a9ef",
   "metadata": {},
   "outputs": [],
   "source": [
    "range_array = np.arange(0,10,1)"
   ]
  },
  {
   "attachments": {},
   "cell_type": "markdown",
   "id": "0ef3eb71",
   "metadata": {},
   "source": [
    "starting from : 0\n",
    "ending at : 10\n",
    "step size : 1 "
   ]
  },
  {
   "cell_type": "code",
   "execution_count": 43,
   "id": "dcac431b",
   "metadata": {},
   "outputs": [
    {
     "data": {
      "text/plain": [
       "array([[4, 6, 4, 6, 6],\n",
       "       [2, 9, 0, 7, 9],\n",
       "       [5, 7, 2, 1, 2]])"
      ]
     },
     "execution_count": 43,
     "metadata": {},
     "output_type": "execute_result"
    }
   ],
   "source": [
    "# Create random array\n",
    "random_array = np.random.randint(0,10, size = (3,5))\n",
    "random_array"
   ]
  },
  {
   "cell_type": "code",
   "execution_count": 45,
   "id": "7a4fb51c",
   "metadata": {},
   "outputs": [
    {
     "data": {
      "text/plain": [
       "array([[0.92957788, 0.74009672, 0.35319372],\n",
       "       [0.61784758, 0.32934311, 0.57305763],\n",
       "       [0.32227139, 0.35296601, 0.97567607],\n",
       "       [0.42910546, 0.74125531, 0.09914364],\n",
       "       [0.74677156, 0.64689953, 0.72194236]])"
      ]
     },
     "execution_count": 45,
     "metadata": {},
     "output_type": "execute_result"
    }
   ],
   "source": [
    "random_array_2 = np.random.random((5,3))\n",
    "random_array_2"
   ]
  },
  {
   "cell_type": "code",
   "execution_count": 47,
   "id": "8ae7054d",
   "metadata": {},
   "outputs": [
    {
     "data": {
      "text/plain": [
       "(5, 3)"
      ]
     },
     "execution_count": 47,
     "metadata": {},
     "output_type": "execute_result"
    }
   ],
   "source": [
    "random_array_2.shape"
   ]
  },
  {
   "attachments": {},
   "cell_type": "markdown",
   "id": "d9dadf2d",
   "metadata": {},
   "source": [
    "# Numpy random seed "
   ]
  },
  {
   "attachments": {},
   "cell_type": "markdown",
   "id": "148aba28",
   "metadata": {},
   "source": [
    "To get the exact same result with the same notebook, it is good way to use seed. The other person can get the same results which you get from the data by useing seed, with same code"
   ]
  },
  {
   "cell_type": "code",
   "execution_count": 52,
   "id": "52773cf9",
   "metadata": {},
   "outputs": [
    {
     "data": {
      "text/plain": [
       "array([[6, 7, 5],\n",
       "       [8, 8, 2],\n",
       "       [1, 7, 2],\n",
       "       [3, 7, 3],\n",
       "       [9, 0, 1]])"
      ]
     },
     "execution_count": 52,
     "metadata": {},
     "output_type": "execute_result"
    }
   ],
   "source": [
    "np.random.seed(seed = 40)\n",
    "random_array_4 = np.random.randint(10, size = (5,3))\n",
    "random_array_4"
   ]
  },
  {
   "cell_type": "code",
   "execution_count": null,
   "id": "1375dc2e",
   "metadata": {},
   "outputs": [],
   "source": [
    "np.random.seed(seed = 0)\n",
    "random_array_4 = np.random.randint(10, size = (5,3))\n",
    "random_array_4"
   ]
  }
 ],
 "metadata": {
  "kernelspec": {
   "display_name": "Python 3 (ipykernel)",
   "language": "python",
   "name": "python3"
  },
  "language_info": {
   "codemirror_mode": {
    "name": "ipython",
    "version": 3
   },
   "file_extension": ".py",
   "mimetype": "text/x-python",
   "name": "python",
   "nbconvert_exporter": "python",
   "pygments_lexer": "ipython3",
   "version": "3.11.4"
  }
 },
 "nbformat": 4,
 "nbformat_minor": 5
}
